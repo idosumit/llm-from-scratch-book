{
 "cells": [
  {
   "cell_type": "markdown",
   "metadata": {},
   "source": [
    "# Finetuning for Classification\n",
    "\n",
    "Covering:\n",
    "\n",
    "- Introducing different LLM fine-tuning approaches\n",
    "- Preparing a dataset for text classification\n",
    "- Modifying a pretrained LLM for fine-tuning\n",
    "- Fine-tuning an LLM to identify spam messages\n",
    "- Evaluating the accuracy of a fine-tuned LLM classifier\n",
    "- Using a fine-tuned LLM to classify new data"
   ]
  },
  {
   "cell_type": "code",
   "execution_count": null,
   "metadata": {
    "vscode": {
     "languageId": "plaintext"
    }
   },
   "outputs": [],
   "source": []
  }
 ],
 "metadata": {
  "language_info": {
   "name": "python"
  }
 },
 "nbformat": 4,
 "nbformat_minor": 2
}
