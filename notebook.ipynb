{
 "cells": [
  {
   "cell_type": "code",
   "execution_count": 13,
   "metadata": {},
   "outputs": [],
   "source": [
    "import torch"
   ]
  },
  {
   "cell_type": "code",
   "execution_count": 2,
   "metadata": {},
   "outputs": [],
   "source": [
    "a = torch.randn(5,5)"
   ]
  },
  {
   "cell_type": "code",
   "execution_count": 3,
   "metadata": {},
   "outputs": [
    {
     "data": {
      "text/plain": [
       "tensor([[-2.0772, -1.3956,  0.2912,  1.0987,  0.7305],\n",
       "        [-0.9522,  0.2342,  0.6568,  0.8923,  0.1526],\n",
       "        [ 0.8685, -0.4909, -0.5898, -0.5882,  1.3270],\n",
       "        [-0.2687,  0.3178,  0.7840,  0.5891,  0.8950],\n",
       "        [-0.6044, -2.3919,  0.0205,  1.0128, -0.4868]])"
      ]
     },
     "execution_count": 3,
     "metadata": {},
     "output_type": "execute_result"
    }
   ],
   "source": [
    "a"
   ]
  },
  {
   "cell_type": "code",
   "execution_count": 4,
   "metadata": {},
   "outputs": [
    {
     "data": {
      "text/plain": [
       "tensor([[-7.6399e-01, -9.5051e-01,  1.1096e+00, -9.9566e-02, -1.6064e+00],\n",
       "        [ 1.0896e-03, -7.0136e-01, -6.9219e-01, -2.4993e-01,  1.6817e+00],\n",
       "        [ 1.5410e+00, -2.4137e-01, -8.6688e-01,  1.2084e+00,  1.5351e+00],\n",
       "        [-1.5412e+00,  4.5528e-01,  9.6485e-01, -1.3109e-01,  1.4079e+00],\n",
       "        [-7.5936e-01, -7.6928e-01,  1.2922e+00, -2.0333e+00, -1.8207e-02]])"
      ]
     },
     "execution_count": 4,
     "metadata": {},
     "output_type": "execute_result"
    }
   ],
   "source": [
    "b = torch.randn(5,5)\n",
    "b"
   ]
  },
  {
   "cell_type": "code",
   "execution_count": 5,
   "metadata": {},
   "outputs": [
    {
     "data": {
      "text/plain": [
       "tensor([[-0.2139,  2.8212,  0.4128, -0.7219,  2.9706],\n",
       "        [ 0.2486,  0.8711, -0.7298,  0.4025,  4.1852],\n",
       "        [-1.6740, -1.6274,  2.9619, -3.2974, -3.9784],\n",
       "        [-0.1739, -0.5770,  0.5273, -1.0024,  2.9826],\n",
       "        [-0.7004,  3.0827,  1.3154,  1.5398, -1.5852]])"
      ]
     },
     "execution_count": 5,
     "metadata": {},
     "output_type": "execute_result"
    }
   ],
   "source": [
    "a@b"
   ]
  },
  {
   "cell_type": "code",
   "execution_count": 16,
   "metadata": {},
   "outputs": [
    {
     "data": {
      "text/plain": [
       "tensor([[  1,  -1,   2],\n",
       "        [-13,   9, -16],\n",
       "        [  9,  -7,  12]])"
      ]
     },
     "execution_count": 16,
     "metadata": {},
     "output_type": "execute_result"
    }
   ],
   "source": [
    "c = torch.tensor([[1, -1, 2],\n",
    "                  [-13, 9, -16],\n",
    "                  [9, -7, 12]])\n",
    "c"
   ]
  },
  {
   "cell_type": "code",
   "execution_count": 19,
   "metadata": {},
   "outputs": [
    {
     "data": {
      "text/plain": [
       "tensor([[3],\n",
       "        [5],\n",
       "        [1]])"
      ]
     },
     "execution_count": 19,
     "metadata": {},
     "output_type": "execute_result"
    }
   ],
   "source": [
    "d = torch.tensor([[3],\n",
    "                  [5],\n",
    "                  [1]])\n",
    "d"
   ]
  },
  {
   "cell_type": "code",
   "execution_count": 20,
   "metadata": {},
   "outputs": [
    {
     "data": {
      "text/plain": [
       "tensor([[  0],\n",
       "        [-10],\n",
       "        [  4]])"
      ]
     },
     "execution_count": 20,
     "metadata": {},
     "output_type": "execute_result"
    }
   ],
   "source": [
    "c@d"
   ]
  },
  {
   "cell_type": "code",
   "execution_count": null,
   "metadata": {},
   "outputs": [],
   "source": []
  }
 ],
 "metadata": {
  "kernelspec": {
   "display_name": "venv_nn",
   "language": "python",
   "name": "python3"
  },
  "language_info": {
   "codemirror_mode": {
    "name": "ipython",
    "version": 3
   },
   "file_extension": ".py",
   "mimetype": "text/x-python",
   "name": "python",
   "nbconvert_exporter": "python",
   "pygments_lexer": "ipython3",
   "version": "3.10.4"
  }
 },
 "nbformat": 4,
 "nbformat_minor": 2
}
